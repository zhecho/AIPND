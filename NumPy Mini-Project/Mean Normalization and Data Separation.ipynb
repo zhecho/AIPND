{
 "cells": [
  {
   "cell_type": "markdown",
   "metadata": {},
   "source": [
    "# Mean Normalization\n",
    "\n",
    "In machine learning we use large amounts of data to train our models. Some machine learning algorithms may require that the data is *normalized* in order to work correctly. The idea of normalization, also known as *feature scaling*, is to ensure that all the data is on a similar scale, *i.e.* that all the data takes on a similar range of values. For example, we might have a dataset that has values between 0 and 5,000. By normalizing the data we can make the range of values be between 0 and 1.\n",
    "\n",
    "In this lab, you will be performing a different kind of feature scaling known as *mean normalization*. Mean normalization will scale the data, but instead of making the values be between 0 and 1, it will distribute the values evenly in some small interval around zero. For example, if we have a dataset that has values between 0 and 5,000, after mean normalization the range of values will be distributed in some small range around 0, for example between -3 to 3. Because the range of values are distributed evenly around zero, this guarantees that the average (mean) of all elements will be zero. Therefore, when you perform *mean normalization* your data will not only be scaled but it will also have an average of zero. \n",
    "\n",
    "# To Do:\n",
    "\n",
    "You will start by importing NumPy and creating a rank 2 ndarray of random integers between 0 and 5,000 (inclusive) with 1000 rows and 20 columns. This array will simulate a dataset with a wide range of values. Fill in the code below"
   ]
  },
  {
   "cell_type": "code",
   "execution_count": 2,
   "metadata": {},
   "outputs": [
    {
     "name": "stdout",
     "output_type": "stream",
     "text": [
      "[[3355 1052 3919 ..., 1735 2919 2633]\n",
      " [ 522 1533 2438 ..., 2195 1352  225]\n",
      " [1837 2677 3233 ..., 1695 4553  554]\n",
      " ..., \n",
      " [4599 1027 2065 ..., 2753 3895 2459]\n",
      " [ 675 3797 4008 ..., 2187 3434 1459]\n",
      " [3488 2079 3358 ..., 1190 4488 4966]]\n"
     ]
    }
   ],
   "source": [
    "# import NumPy into Python\n",
    "import numpy as np\n",
    "\n",
    "# Create a 1000 x 20 ndarray with random integers in the half-open interval [0, 5001).\n",
    "X = np.random.randint(0,5001,size=(1000,20))\n",
    "\n",
    "# print the shape of X\n",
    "print(X)"
   ]
  },
  {
   "cell_type": "markdown",
   "metadata": {},
   "source": [
    "Now that you created the array we will mean normalize it. We will perform mean normalization using the following equation:\n",
    "\n",
    "$\\mbox{Norm_Col}_i = \\frac{\\mbox{Col}_i - \\mu_i}{\\sigma_i}$\n",
    "\n",
    "where $\\mbox{Col}_i$ is the $i$th column of $X$, $\\mu_i$ is average of the values in the $i$th column of $X$, and $\\sigma_i$ is the standard deviation of the values in the $i$th column of $X$. In other words, mean normalization is performed by subtracting from each column of $X$ the average of its values, and then by dividing by the standard deviation of its values. In the space below, you will first calculate the average and standard deviation of each column of $X$. "
   ]
  },
  {
   "cell_type": "code",
   "execution_count": 47,
   "metadata": {},
   "outputs": [],
   "source": [
    "# Average of the values in each column of X\n",
    "ave_cols = X.mean(axis=0)\n",
    "\n",
    "# Standard Deviation of the values in each column of X\n",
    "std_cols = X.std(axis=0)"
   ]
  },
  {
   "cell_type": "markdown",
   "metadata": {},
   "source": [
    "If you have done the above calculations correctly, then `ave_cols` and `std_cols`, should both be vectors with shape `(20,)` since $X$ has 20 columns. You can verify this by filling the code below:"
   ]
  },
  {
   "cell_type": "code",
   "execution_count": 5,
   "metadata": {},
   "outputs": [
    {
     "name": "stdout",
     "output_type": "stream",
     "text": [
      "[ 2442.976  2499.057  2505.644  2517.079  2425.115  2487.399  2459.126\n",
      "  2491.708  2549.122  2519.044  2557.383  2573.726  2489.065  2435.827\n",
      "  2402.638  2457.995  2516.798  2482.642  2559.435  2506.401]\n",
      "[ 1461.7670517   1400.96394235  1459.94099856  1438.67327311  1445.70074281\n",
      "  1449.61963073  1467.10190789  1459.60182609  1409.28914248  1412.61919499\n",
      "  1479.39051312  1437.11729477  1414.19661885  1450.14509932  1420.84711456\n",
      "  1425.41975185  1458.62786179  1443.65581765  1468.7339452   1407.98715484]\n"
     ]
    }
   ],
   "source": [
    "# Print the shape of ave_cols\n",
    "print(ave_cols)\n",
    "\n",
    "# Print the shape of std_cols\n",
    "print(std_cols)"
   ]
  },
  {
   "cell_type": "markdown",
   "metadata": {},
   "source": [
    "You can now take advantage of Broadcasting to calculate the mean normalized version of $X$ in just one line of code using the equation above. Fill in the code below"
   ]
  },
  {
   "cell_type": "code",
   "execution_count": 6,
   "metadata": {},
   "outputs": [],
   "source": [
    "# Mean normalize X\n",
    "X_norm = (X - ave_cols)/std_cols"
   ]
  },
  {
   "cell_type": "markdown",
   "metadata": {},
   "source": [
    "If you have performed the mean normalization correctly, then the average of all the elements in $X_{\\tiny{\\mbox{norm}}}$ should be close to zero, and they should be evenly distributed in some small interval around zero. You can verify this by filing the code below:"
   ]
  },
  {
   "cell_type": "code",
   "execution_count": 7,
   "metadata": {},
   "outputs": [
    {
     "name": "stdout",
     "output_type": "stream",
     "text": [
      "3.73034936274e-17\n",
      "[-1.66782799 -1.78309871 -1.71557892 -1.7488884  -1.67124145 -1.71520787\n",
      " -1.6761794  -1.70574465 -1.80879986 -1.77899607 -1.72596956 -1.78880736\n",
      " -1.75722737 -1.66867922 -1.69028601 -1.71948999 -1.72134241 -1.71692031\n",
      " -1.74261309 -1.77871012]\n",
      "[ 1.74242811  1.78515872  1.70373734  1.72236535  1.78037191  1.73328296\n",
      "  1.73190014  1.71847689  1.7334115   1.75628082  1.64771707  1.68690058\n",
      "  1.77410621  1.76683906  1.82522241  1.76720226  1.70105211  1.73750417\n",
      "  1.66099858  1.7589642 ]\n"
     ]
    }
   ],
   "source": [
    "# Print the average of all the values of X_norm\n",
    "print(X_norm.mean())\n",
    "\n",
    "# Print the average of the minimum value in each column of X_norm\n",
    "print(X_norm.min(axis=0))\n",
    "\n",
    "# Print the average of the maximum value in each column of X_norm\n",
    "print(X_norm.max(axis=0))"
   ]
  },
  {
   "cell_type": "markdown",
   "metadata": {},
   "source": [
    "You should note that since $X$ was created using random integers, the above values will vary. \n",
    "\n",
    "# Data Separation\n",
    "\n",
    "After the data has been mean normalized, it is customary in machine learnig to split our dataset into three sets:\n",
    "\n",
    "1. A Training Set\n",
    "2. A Cross Validation Set\n",
    "3. A Test Set\n",
    "\n",
    "The dataset is usually divided such that the Training Set contains 60% of the data, the Cross Validation Set contains 20% of the data, and the Test Set contains 20% of the data. \n",
    "\n",
    "In this part of the lab you will separate `X_norm` into a Training Set, Cross Validation Set, and a Test Set. Each data set will contain rows of `X_norm` chosen at random, making sure that we don't pick the same row twice. This will guarantee that all the rows of `X_norm` are chosen and randomly distributed among the three new sets.\n",
    "\n",
    "You will start by creating a rank 1 ndarray that contains a random permutation of the row indices of `X_norm`. You can do this by using the `np.random.permutation()` function. The `np.random.permutation(N)` function creates a random permutation of integers from 0 to `N - 1`. Let's see an example:"
   ]
  },
  {
   "cell_type": "code",
   "execution_count": 46,
   "metadata": {},
   "outputs": [
    {
     "data": {
      "text/plain": [
       "array([2, 3, 4, 1, 0])"
      ]
     },
     "execution_count": 46,
     "metadata": {},
     "output_type": "execute_result"
    }
   ],
   "source": [
    "# We create a random permutation of integers 0 to 4\n",
    "np.random.permutation(5)"
   ]
  },
  {
   "cell_type": "markdown",
   "metadata": {},
   "source": [
    "# To Do\n",
    "\n",
    "In the space below create a rank 1 ndarray that contains a random permutation of the row indices of `X_norm`. You can do this in one line of code by extracting the number of rows of `X_norm` using the `shape` attribute and then passing it to the  `np.random.permutation()` function. Remember the `shape` attribute returns a tuple with two numbers in the form `(rows,columns)`."
   ]
  },
  {
   "cell_type": "code",
   "execution_count": 37,
   "metadata": {},
   "outputs": [
    {
     "name": "stdout",
     "output_type": "stream",
     "text": [
      "(1000, 20)\n",
      "[761 445 873 311 676 184 479 173 486 367 978 594 635 674 732 309 280  15\n",
      "  42 464 643 235 534 484 666 516 743 777 546 883 624 287 544 488 155 121\n",
      " 868 878  87  78 182 967 985 652 650 555  86   0 492 169 685 129 768 108\n",
      " 766 261 230 579  85 821 725 368 496 258 533 450 292 177  16 143 621 779\n",
      " 166 965 935 444 513  37 442 339 850  22 678 350  79 552 256 345 560 785\n",
      " 388 840 905 711 380 718 374 399 413 503 335 833 477 729 923 322  46 714\n",
      " 483 994 538 602 809 823 803 844 814 320 859 704 175 788 936  54 451 248\n",
      " 680 326 180 259 357  63 495 529 375 539  47 570 112 665 447 400 316 225\n",
      " 195 955 429 567 670  24 398 581  12 752 395 338 880 644 697 500 887 370\n",
      " 363 855  72 819 754 894 966 759 951  95 601 216 736 657 514 153 748 458\n",
      " 272 373 144 191  51 265 661 888 580 591 595 618 845 150 462 655 489 105\n",
      " 131 530 244 612 507 382 340 106 406 391 252 622 764 838 946 136 999 699\n",
      " 540 751 734 638 547 352 313 426 562 281 209  89 687 568 337 201 278 353\n",
      " 623  11  64  49 767 835 293 354 103  30 152  70 689 471 269 559 740 455\n",
      " 820 325 584  99 164 524 210 361 232 857 796 296  29 117 146 110 620 497\n",
      " 940 372 865  23 846 186 944 456 839 588 536 386 499 371 747 487 861 410\n",
      " 274 145 550  75 745  66 573 922 853 931 773 700 228  38  71  39  43 333\n",
      " 491 148 849 808 590 673 890 416 415 875 691 414 222 577 906 344 899 556\n",
      " 746 270 653 475 720 482 826 749 960 891  21 241 578 870 324 378 420 724\n",
      " 962 950 776 558  81 731 545 738 828 659 682 260  55 124 476 893 757 794\n",
      " 318 958 933 504   4 695 219 279 266 914 572 908 804 212 662 306 703 332\n",
      " 730 384 937 193 686 234 494 971 679  77 253 396 755 810  40  91 939 660\n",
      " 161 910 930 522 114 990  92 874 561  32 733 917  25 523 196 448 412 719\n",
      " 774 176 172 377 202 531 288 223 907 104 181 197 199 160 208 721 366  67\n",
      " 419 134 215 631 918 224 928 473 805 973 115 431 331 756 312 669 925 171\n",
      " 827  48 449 151 867 834 912 693 133 267 640 716 518 434 913 387 980 526\n",
      " 741 569 987 360 831 639 123 452 926 291  93 832   6 315 432 702 435 379\n",
      " 351 634 348 842 800 872 189  17 664  76 969 667 127 852 862 775 992 205\n",
      " 807 585 369 892 648 263 290 185   1  74  97 707 349 984 651  59 641 157\n",
      " 817 592 119 509 943 603 956 159 915 459 517 204 139 642 314 317 418 762\n",
      " 856 528 158   2 218 953 712 135 706 735 428 927 829 934 213 597 783 543\n",
      " 282 600 610 897   3 214 548 977 465 221 469   7 566 952 763 405 141 770\n",
      " 520 656 781  34 118 571 247 130 771 167 111 608  20 294 358 806 869 632\n",
      " 381  45 401 690 625 633 628 203 609 242 454 920 394 993 192 822 392  57\n",
      " 468 327 574 122 760  18 726 900 753 793 424 772 355 433 128 329 397 947\n",
      " 302 786 116 904 816 174 511 705 137 239 765 769 304 975 728 619 190 911\n",
      " 858 684 694 217 478 238 998 156 183 884 582 227 100 385 328 359 554 713\n",
      " 356 453 295 438 277 347 671 481 587  60 866 981 959 924 273 271 170 474\n",
      " 147 220 614 929 493 243 376 825 895 902  96 307 501 847 303 626 411 168\n",
      " 268 245 233 149 841 780 864  35 188 553 798 941 541 236 310 991 467 672\n",
      " 563  94 778 342 537 818 126 187 830 637 300 919  33 617  73 264 957 645\n",
      " 102 140 954 812 668 979 854 346 515 815 627 525 383  14 758 942 647 430\n",
      "  52 881  36 837 138 485 283 298 972 365 251 502 598 709 510 797 107 799\n",
      " 109 963 898 162  44 551 262 615 698 323 521 750 508 532  69 299 179 811\n",
      " 404 997 305 789 938 163 425  90 527 542 976 402 604 983 848 409 688 723\n",
      " 593 480 275 889 154 949 498 802 851 974 343 995 727 519 742  83 407 583\n",
      " 932 463 427 231 470 211 229 417  41 403  68 795 505 961 246 649 460 446\n",
      " 257 237 677 739 945 422 901 988 791 683 843  31 986 125 715 443 636 860\n",
      " 784 301 120 675 964 701  62 441 101 390 207 882 722 178 439 710 142 863\n",
      " 616 565 557 336 605 334 663 708 564 792 408 877 886 586  10 737  28 654\n",
      " 341 787 921 423 909 658 576 113  26 284 437 308 440 330  58 607 549 692\n",
      " 198 813 611   9 200 466   5 319 362 824 916  84 289 472 630 249 681 871\n",
      " 589 744  61 801 165 896  27 696 436 506 321 903  82  80 606 596  56  53\n",
      " 132 255 879 194 885 421 286 393 457 206 276 836  13 285 364 490 599  50\n",
      " 512 629 970  98 297 226 646 982 790 876 535 989 717   8 782 996 461 240\n",
      " 613 389 948  88 254 575 968  19 250  65]\n"
     ]
    }
   ],
   "source": [
    "# Create a rank 1 ndarray that contains a random permutation of the row indices of `X_norm`\n",
    "row_indices = np.random.permutation(X_norm.shape[0])\n",
    "\n",
    "print(row_indices)\n"
   ]
  },
  {
   "cell_type": "markdown",
   "metadata": {},
   "source": [
    "Now you can create the three datasets using the `row_indices` ndarray to select the rows that will go into each dataset. Rememeber that the Training Set contains 60% of the data, the Cross Validation Set contains 20% of the data, and the Test Set contains 20% of the data. Each set requires just one line of code to create. Fill in the code below"
   ]
  },
  {
   "cell_type": "code",
   "execution_count": 44,
   "metadata": {},
   "outputs": [],
   "source": [
    "# Make any necessary calculations.\n",
    "# You can save your calculations into variables to use later.\n",
    "\n",
    "\n",
    "# Create a Training Set\n",
    "X_train = X_norm[row_indices[0:600]]\n",
    "\n",
    "# Create a Cross Validation Set\n",
    "X_crossVal = X_norm[row_indices[600:800]]\n",
    "\n",
    "# Create a Test Set\n",
    "X_test = X_norm[row_indices[800:1000]]"
   ]
  },
  {
   "cell_type": "markdown",
   "metadata": {},
   "source": [
    "If you performed the above calculations correctly, then `X_tain` should have 600 rows and 20 columns, `X_crossVal` should have 200 rows and 20 columns, and `X_test` should have 200 rows and 20 columns. You can verify this by filling the code below:"
   ]
  },
  {
   "cell_type": "code",
   "execution_count": 45,
   "metadata": {},
   "outputs": [
    {
     "name": "stdout",
     "output_type": "stream",
     "text": [
      "(600, 20)\n",
      "(200, 20)\n",
      "(200, 20)\n"
     ]
    }
   ],
   "source": [
    "# Print the shape of X_train\n",
    "print(X_train.shape)\n",
    "\n",
    "# Print the shape of X_crossVal\n",
    "print(X_crossVal.shape)\n",
    "\n",
    "# Print the shape of X_test\n",
    "print(X_test.shape)"
   ]
  },
  {
   "cell_type": "code",
   "execution_count": null,
   "metadata": {},
   "outputs": [],
   "source": []
  }
 ],
 "metadata": {
  "kernelspec": {
   "display_name": "Python 3",
   "language": "python",
   "name": "python3"
  },
  "language_info": {
   "codemirror_mode": {
    "name": "ipython",
    "version": 3
   },
   "file_extension": ".py",
   "mimetype": "text/x-python",
   "name": "python",
   "nbconvert_exporter": "python",
   "pygments_lexer": "ipython3",
   "version": "3.6.8"
  }
 },
 "nbformat": 4,
 "nbformat_minor": 2
}
