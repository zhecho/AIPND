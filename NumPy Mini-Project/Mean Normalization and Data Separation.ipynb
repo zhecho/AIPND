{
 "cells": [
  {
   "cell_type": "markdown",
   "metadata": {},
   "source": [
    "# Mean Normalization\n",
    "\n",
    "In machine learning we use large amounts of data to train our models. Some machine learning algorithms may require that the data is *normalized* in order to work correctly. The idea of normalization, also known as *feature scaling*, is to ensure that all the data is on a similar scale, *i.e.* that all the data takes on a similar range of values. For example, we might have a dataset that has values between 0 and 5,000. By normalizing the data we can make the range of values be between 0 and 1.\n",
    "\n",
    "In this lab, you will be performing a different kind of feature scaling known as *mean normalization*. Mean normalization will scale the data, but instead of making the values be between 0 and 1, it will distribute the values evenly in some small interval around zero. For example, if we have a dataset that has values between 0 and 5,000, after mean normalization the range of values will be distributed in some small range around 0, for example between -3 to 3. Because the range of values are distributed evenly around zero, this guarantees that the average (mean) of all elements will be zero. Therefore, when you perform *mean normalization* your data will not only be scaled but it will also have an average of zero. \n",
    "\n",
    "# To Do:\n",
    "\n",
    "You will start by importing NumPy and creating a rank 2 ndarray of random integers between 0 and 5,000 (inclusive) with 1000 rows and 20 columns. This array will simulate a dataset with a wide range of values. Fill in the code below"
   ]
  },
  {
   "cell_type": "code",
   "execution_count": 2,
   "metadata": {},
   "outputs": [
    {
     "name": "stdout",
     "output_type": "stream",
     "text": [
      "[[3355 1052 3919 ..., 1735 2919 2633]\n",
      " [ 522 1533 2438 ..., 2195 1352  225]\n",
      " [1837 2677 3233 ..., 1695 4553  554]\n",
      " ..., \n",
      " [4599 1027 2065 ..., 2753 3895 2459]\n",
      " [ 675 3797 4008 ..., 2187 3434 1459]\n",
      " [3488 2079 3358 ..., 1190 4488 4966]]\n"
     ]
    }
   ],
   "source": [
    "# import NumPy into Python\n",
    "import numpy as np\n",
    "\n",
    "# Create a 1000 x 20 ndarray with random integers in the half-open interval [0, 5001).\n",
    "X = np.random.randint(0,5001,size=(1000,20))\n",
    "\n",
    "# print the shape of X\n",
    "print(X)"
   ]
  },
  {
   "cell_type": "markdown",
   "metadata": {},
   "source": [
    "Now that you created the array we will mean normalize it. We will perform mean normalization using the following equation:\n",
    "\n",
    "$\\mbox{Norm_Col}_i = \\frac{\\mbox{Col}_i - \\mu_i}{\\sigma_i}$\n",
    "\n",
    "where $\\mbox{Col}_i$ is the $i$th column of $X$, $\\mu_i$ is average of the values in the $i$th column of $X$, and $\\sigma_i$ is the standard deviation of the values in the $i$th column of $X$. In other words, mean normalization is performed by subtracting from each column of $X$ the average of its values, and then by dividing by the standard deviation of its values. In the space below, you will first calculate the average and standard deviation of each column of $X$. "
   ]
  },
  {
   "cell_type": "code",
   "execution_count": 4,
   "metadata": {},
   "outputs": [],
   "source": [
    "# Average of the values in each column of X\n",
    "ave_cols = X.mean(axis=0)\n",
    "\n",
    "# Standard Deviation of the values in each column of X\n",
    "std_cols = X.std(axis=0)"
   ]
  },
  {
   "cell_type": "markdown",
   "metadata": {},
   "source": [
    "If you have done the above calculations correctly, then `ave_cols` and `std_cols`, should both be vectors with shape `(20,)` since $X$ has 20 columns. You can verify this by filling the code below:"
   ]
  },
  {
   "cell_type": "code",
   "execution_count": 5,
   "metadata": {},
   "outputs": [
    {
     "name": "stdout",
     "output_type": "stream",
     "text": [
      "[ 2442.976  2499.057  2505.644  2517.079  2425.115  2487.399  2459.126\n",
      "  2491.708  2549.122  2519.044  2557.383  2573.726  2489.065  2435.827\n",
      "  2402.638  2457.995  2516.798  2482.642  2559.435  2506.401]\n",
      "[ 1461.7670517   1400.96394235  1459.94099856  1438.67327311  1445.70074281\n",
      "  1449.61963073  1467.10190789  1459.60182609  1409.28914248  1412.61919499\n",
      "  1479.39051312  1437.11729477  1414.19661885  1450.14509932  1420.84711456\n",
      "  1425.41975185  1458.62786179  1443.65581765  1468.7339452   1407.98715484]\n"
     ]
    }
   ],
   "source": [
    "# Print the shape of ave_cols\n",
    "print(ave_cols)\n",
    "\n",
    "# Print the shape of std_cols\n",
    "print(std_cols)"
   ]
  },
  {
   "cell_type": "markdown",
   "metadata": {},
   "source": [
    "You can now take advantage of Broadcasting to calculate the mean normalized version of $X$ in just one line of code using the equation above. Fill in the code below"
   ]
  },
  {
   "cell_type": "code",
   "execution_count": 6,
   "metadata": {},
   "outputs": [],
   "source": [
    "# Mean normalize X\n",
    "X_norm = (X - ave_cols)/std_cols"
   ]
  },
  {
   "cell_type": "markdown",
   "metadata": {},
   "source": [
    "If you have performed the mean normalization correctly, then the average of all the elements in $X_{\\tiny{\\mbox{norm}}}$ should be close to zero, and they should be evenly distributed in some small interval around zero. You can verify this by filing the code below:"
   ]
  },
  {
   "cell_type": "code",
   "execution_count": 7,
   "metadata": {},
   "outputs": [
    {
     "name": "stdout",
     "output_type": "stream",
     "text": [
      "3.73034936274e-17\n",
      "[-1.66782799 -1.78309871 -1.71557892 -1.7488884  -1.67124145 -1.71520787\n",
      " -1.6761794  -1.70574465 -1.80879986 -1.77899607 -1.72596956 -1.78880736\n",
      " -1.75722737 -1.66867922 -1.69028601 -1.71948999 -1.72134241 -1.71692031\n",
      " -1.74261309 -1.77871012]\n",
      "[ 1.74242811  1.78515872  1.70373734  1.72236535  1.78037191  1.73328296\n",
      "  1.73190014  1.71847689  1.7334115   1.75628082  1.64771707  1.68690058\n",
      "  1.77410621  1.76683906  1.82522241  1.76720226  1.70105211  1.73750417\n",
      "  1.66099858  1.7589642 ]\n"
     ]
    }
   ],
   "source": [
    "# Print the average of all the values of X_norm\n",
    "print(X_norm.mean())\n",
    "\n",
    "# Print the average of the minimum value in each column of X_norm\n",
    "print(X_norm.min(axis=0))\n",
    "\n",
    "# Print the average of the maximum value in each column of X_norm\n",
    "print(X_norm.max(axis=0))"
   ]
  },
  {
   "cell_type": "markdown",
   "metadata": {},
   "source": [
    "You should note that since $X$ was created using random integers, the above values will vary. \n",
    "\n",
    "# Data Separation\n",
    "\n",
    "After the data has been mean normalized, it is customary in machine learnig to split our dataset into three sets:\n",
    "\n",
    "1. A Training Set\n",
    "2. A Cross Validation Set\n",
    "3. A Test Set\n",
    "\n",
    "The dataset is usually divided such that the Training Set contains 60% of the data, the Cross Validation Set contains 20% of the data, and the Test Set contains 20% of the data. \n",
    "\n",
    "In this part of the lab you will separate `X_norm` into a Training Set, Cross Validation Set, and a Test Set. Each data set will contain rows of `X_norm` chosen at random, making sure that we don't pick the same row twice. This will guarantee that all the rows of `X_norm` are chosen and randomly distributed among the three new sets.\n",
    "\n",
    "You will start by creating a rank 1 ndarray that contains a random permutation of the row indices of `X_norm`. You can do this by using the `np.random.permutation()` function. The `np.random.permutation(N)` function creates a random permutation of integers from 0 to `N - 1`. Let's see an example:"
   ]
  },
  {
   "cell_type": "code",
   "execution_count": null,
   "metadata": {},
   "outputs": [],
   "source": [
    "# We create a random permutation of integers 0 to 4\n",
    "np.random.permutation(5)"
   ]
  },
  {
   "cell_type": "markdown",
   "metadata": {},
   "source": [
    "# To Do\n",
    "\n",
    "In the space below create a rank 1 ndarray that contains a random permutation of the row indices of `X_norm`. You can do this in one line of code by extracting the number of rows of `X_norm` using the `shape` attribute and then passing it to the  `np.random.permutation()` function. Remember the `shape` attribute returns a tuple with two numbers in the form `(rows,columns)`."
   ]
  },
  {
   "cell_type": "code",
   "execution_count": 8,
   "metadata": {},
   "outputs": [
    {
     "name": "stdout",
     "output_type": "stream",
     "text": [
      "[411 461 141 678 734 514 317 359 660  25 509 980 427 106 933 826 951 935\n",
      " 573 116 962 264 627 183 513 984 782 784 673 274 212 226 738 752 534 489\n",
      " 164 654 231 395 960 136 830 456 336  96  43 299 776 706 672 387 702 862\n",
      " 953 459 693 787 911 169 519 384 341 945 153 883 840 961 886 948 952 420\n",
      " 351 732 130 122 121 286 592 642  30 240 361 832 403 808 818   4 780 524\n",
      " 401 228 829 746 977 939 932 989 634 739 813 682 363 369 307 482 208 595\n",
      "  50 494   0 241 474 844  59 418 408 695 817 572 929 986 561 718 675 523\n",
      " 728 941 391 637 756 230 103 455 847 260 854 289 410 662 154 913 755 491\n",
      " 174 995 497 142 792 332 959  58 128 407 262 214 991 805  57  86   3 775\n",
      " 576 553 217  27 646  72 124 901 162 117 175 868 588 310 249 148  33 101\n",
      " 318 663 931  87 460 200 368 645 562 210 778 915 469 751  42 958 949 621\n",
      " 940 889 724  69 674 425 616 877 649 254 547 288 485 743 687 666 790 679\n",
      " 750 880 313 638 322 156 747 711 771 748 132 871  78 864 434 981 848 733\n",
      " 809 484  18 133 439 432 328 404 736 620  15 245  17 531 676 398 626 899\n",
      " 731  24 930 603 569 845 266 552 966 187 793 515  12 102 284  39 947  62\n",
      " 406 998 349 601 508  98 112 878 380 350  46 863 194 577 597 381 479 853\n",
      " 205 414 478 785 584 788 353 677 836 293 235 186 510  53 936  88 691 397\n",
      " 171 190  10 358 722 311 355 500   6 243 544 837 636 822 823 612  75 139\n",
      " 999 222 803 413 440 633 779 943 972 887 617 910 655 337 585  47 525 767\n",
      "  76 449 302  95 873 819 370 669 545 754 294 396 587 537  63 290 158 841\n",
      " 333 742 944 423 376 295 667 631   2 833 518 605 379 725 957 468  35 870\n",
      " 685 246 227  38 720 499 680 983 786 258 297 324 104 521 527 115 252 549\n",
      "  66 255 340 234   9 119 110 357 272 825 765 762 374 204 354 472 209 160\n",
      " 481 578 717 138 137 694 402 764 892 323 971 791 581 671 689  61 632 610\n",
      " 768 530 433 483  64  97 919 895 457 298 312 709 216 926 342 464 421 596\n",
      " 643 330  89 586 664 580 730 526 120  81  70 963  54 558 201 429 203 435\n",
      " 146 325 386  11 373 511 329 684 532 615 759 181 579 422 265 259 268 487\n",
      " 276 232 681 641  37 555  36  67 640 100 614 820 644 922  56 522 606 400\n",
      " 973 897 471 898  34 990 583 554 814 528 811  51  91 757 192 903 238 348\n",
      " 795 516 182 319 167 364 409 987 180 541 876 145   1  26 591 659 412 798\n",
      " 801 147 177 976 415 625 857 371 938 304 630 600 520 589 261 551 405 657\n",
      " 506  45 979 184  41 668 431  55 928 327 726 697 969 879 316 821 888 452\n",
      " 701 867 721 438 550 927 794 539 321 155 942 556 918 653 248 865 366 458\n",
      " 388 193 256 651 753 658 176 546 213 378 690 855 770 996 165 946 749 507\n",
      " 197 444 143 131 934 849 504 859 760 462 807 389 305 118 466 198 543 207\n",
      " 443 884 331 869 127 123  79 875 535 196 334 392 858 716 416 575 280 708\n",
      " 607  23 812  40  28 598 882 712 437 343 450 275 159 173 860 463 896 492\n",
      " 108 467 567  77 296 473 900  73 263 710 480 988 699 827  48 505 151 126\n",
      " 839 688 700 315 907 533 773 199  20 604 548 303 399 758  71 419 861 602\n",
      " 628 375  94  13 301 285 338 727 465 904 705 503 997  65 735 383 968  90\n",
      " 170 446 745 810 107 590 542  99 188 703  82 320 239 609 665 347 344 270\n",
      " 135 430  68 806 140 965 789 994 713  22 574 964 308 453 292 211  16 772\n",
      "   5 496 851 345 152 517 912 781 978 925 271 950 267 279 683 905  60 195\n",
      "  80 189  49 269 242 797 114 652 623 599 540 916 559  44 251 445 163  85\n",
      " 909 661 582 828 282 109 250 300 914 125 168 291 698 737 326 891 834 253\n",
      " 451 982 221 974 624 360  74  92 824 563 247 804 704 619 796 885 220 908\n",
      " 501 835 799 560 622 417 179 917 894 611 744 843 686 339 233 111 436 477\n",
      " 635 442 495 906 856 608 191 831 488 881 394 536 172  14 356 428 629 512\n",
      " 426 498 838  32  31 850 224 225 993 144 223 902 970 372 178 105 777 924\n",
      " 815  29 769 424 393 564 714 277 244 954 874 346 719 741 382   8  93 618\n",
      " 215 367 150 309  19 149 306 448 538 134 490 593 872 816 570 923 656  83\n",
      " 648 161 237 967 202 219 740 229 955 166 566 441 956 206 852   7 493 729\n",
      " 766 486 992 236 273 447 696  84 113 385 475 565 692 650 218 783 890 639\n",
      " 568 335  52 763 352 283 920 185 281  21 670 287 723 557 594 866 529 278\n",
      " 502 800 365 715 390 921 454 761 571 129 476 707 470 257 774 937 362 647\n",
      " 975 842 893 985 846 157 802 613 314 377]\n"
     ]
    }
   ],
   "source": [
    "# Create a rank 1 ndarray that contains a random permutation of the row indices of `X_norm`\n",
    "row_indices = np.random.permutation(X_norm.shape[0])\n",
    "\n",
    "print(row_indices)"
   ]
  },
  {
   "cell_type": "markdown",
   "metadata": {},
   "source": [
    "Now you can create the three datasets using the `row_indices` ndarray to select the rows that will go into each dataset. Rememeber that the Training Set contains 60% of the data, the Cross Validation Set contains 20% of the data, and the Test Set contains 20% of the data. Each set requires just one line of code to create. Fill in the code below"
   ]
  },
  {
   "cell_type": "code",
   "execution_count": null,
   "metadata": {},
   "outputs": [],
   "source": [
    "# Make any necessary calculations.\n",
    "# You can save your calculations into variables to use later.\n",
    "\n",
    "\n",
    "# Create a Training Set\n",
    "X_train =\n",
    "\n",
    "# Create a Cross Validation Set\n",
    "X_crossVal =\n",
    "\n",
    "# Create a Test Set\n",
    "X_test ="
   ]
  },
  {
   "cell_type": "markdown",
   "metadata": {},
   "source": [
    "If you performed the above calculations correctly, then `X_tain` should have 600 rows and 20 columns, `X_crossVal` should have 200 rows and 20 columns, and `X_test` should have 200 rows and 20 columns. You can verify this by filling the code below:"
   ]
  },
  {
   "cell_type": "code",
   "execution_count": null,
   "metadata": {},
   "outputs": [],
   "source": [
    "# Print the shape of X_train\n",
    "\n",
    "\n",
    "# Print the shape of X_crossVal\n",
    "\n",
    "\n",
    "# Print the shape of X_test\n"
   ]
  },
  {
   "cell_type": "code",
   "execution_count": null,
   "metadata": {},
   "outputs": [],
   "source": []
  }
 ],
 "metadata": {
  "kernelspec": {
   "display_name": "Python 3",
   "language": "python",
   "name": "python3"
  },
  "language_info": {
   "codemirror_mode": {
    "name": "ipython",
    "version": 3
   },
   "file_extension": ".py",
   "mimetype": "text/x-python",
   "name": "python",
   "nbconvert_exporter": "python",
   "pygments_lexer": "ipython3",
   "version": "3.6.8"
  }
 },
 "nbformat": 4,
 "nbformat_minor": 2
}
