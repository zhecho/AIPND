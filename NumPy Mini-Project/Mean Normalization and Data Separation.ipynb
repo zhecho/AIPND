{
 "cells": [
  {
   "cell_type": "markdown",
   "metadata": {},
   "source": [
    "# Mean Normalization\n",
    "\n",
    "In machine learning we use large amounts of data to train our models. Some machine learning algorithms may require that the data is *normalized* in order to work correctly. The idea of normalization, also known as *feature scaling*, is to ensure that all the data is on a similar scale, *i.e.* that all the data takes on a similar range of values. For example, we might have a dataset that has values between 0 and 5,000. By normalizing the data we can make the range of values be between 0 and 1.\n",
    "\n",
    "In this lab, you will be performing a different kind of feature scaling known as *mean normalization*. Mean normalization will scale the data, but instead of making the values be between 0 and 1, it will distribute the values evenly in some small interval around zero. For example, if we have a dataset that has values between 0 and 5,000, after mean normalization the range of values will be distributed in some small range around 0, for example between -3 to 3. Because the range of values are distributed evenly around zero, this guarantees that the average (mean) of all elements will be zero. Therefore, when you perform *mean normalization* your data will not only be scaled but it will also have an average of zero. \n",
    "\n",
    "# To Do:\n",
    "\n",
    "You will start by importing NumPy and creating a rank 2 ndarray of random integers between 0 and 5,000 (inclusive) with 1000 rows and 20 columns. This array will simulate a dataset with a wide range of values. Fill in the code below"
   ]
  },
  {
   "cell_type": "code",
   "execution_count": 2,
   "metadata": {},
   "outputs": [
    {
     "name": "stdout",
     "output_type": "stream",
     "text": [
      "[[3355 1052 3919 ..., 1735 2919 2633]\n",
      " [ 522 1533 2438 ..., 2195 1352  225]\n",
      " [1837 2677 3233 ..., 1695 4553  554]\n",
      " ..., \n",
      " [4599 1027 2065 ..., 2753 3895 2459]\n",
      " [ 675 3797 4008 ..., 2187 3434 1459]\n",
      " [3488 2079 3358 ..., 1190 4488 4966]]\n"
     ]
    }
   ],
   "source": [
    "# import NumPy into Python\n",
    "import numpy as np\n",
    "\n",
    "# Create a 1000 x 20 ndarray with random integers in the half-open interval [0, 5001).\n",
    "X = np.random.randint(0,5001,size=(1000,20))\n",
    "\n",
    "# print the shape of X\n",
    "print(X)"
   ]
  },
  {
   "cell_type": "markdown",
   "metadata": {},
   "source": [
    "Now that you created the array we will mean normalize it. We will perform mean normalization using the following equation:\n",
    "\n",
    "$\\mbox{Norm_Col}_i = \\frac{\\mbox{Col}_i - \\mu_i}{\\sigma_i}$\n",
    "\n",
    "where $\\mbox{Col}_i$ is the $i$th column of $X$, $\\mu_i$ is average of the values in the $i$th column of $X$, and $\\sigma_i$ is the standard deviation of the values in the $i$th column of $X$. In other words, mean normalization is performed by subtracting from each column of $X$ the average of its values, and then by dividing by the standard deviation of its values. In the space below, you will first calculate the average and standard deviation of each column of $X$. "
   ]
  },
  {
   "cell_type": "code",
   "execution_count": 4,
   "metadata": {},
   "outputs": [],
   "source": [
    "# Average of the values in each column of X\n",
    "ave_cols = X.mean(axis=0)\n",
    "\n",
    "# Standard Deviation of the values in each column of X\n",
    "std_cols = X.std(axis=0)"
   ]
  },
  {
   "cell_type": "markdown",
   "metadata": {},
   "source": [
    "If you have done the above calculations correctly, then `ave_cols` and `std_cols`, should both be vectors with shape `(20,)` since $X$ has 20 columns. You can verify this by filling the code below:"
   ]
  },
  {
   "cell_type": "code",
   "execution_count": 5,
   "metadata": {},
   "outputs": [
    {
     "name": "stdout",
     "output_type": "stream",
     "text": [
      "[ 2442.976  2499.057  2505.644  2517.079  2425.115  2487.399  2459.126\n",
      "  2491.708  2549.122  2519.044  2557.383  2573.726  2489.065  2435.827\n",
      "  2402.638  2457.995  2516.798  2482.642  2559.435  2506.401]\n",
      "[ 1461.7670517   1400.96394235  1459.94099856  1438.67327311  1445.70074281\n",
      "  1449.61963073  1467.10190789  1459.60182609  1409.28914248  1412.61919499\n",
      "  1479.39051312  1437.11729477  1414.19661885  1450.14509932  1420.84711456\n",
      "  1425.41975185  1458.62786179  1443.65581765  1468.7339452   1407.98715484]\n"
     ]
    }
   ],
   "source": [
    "# Print the shape of ave_cols\n",
    "print(ave_cols)\n",
    "\n",
    "# Print the shape of std_cols\n",
    "print(std_cols)"
   ]
  },
  {
   "cell_type": "markdown",
   "metadata": {},
   "source": [
    "You can now take advantage of Broadcasting to calculate the mean normalized version of $X$ in just one line of code using the equation above. Fill in the code below"
   ]
  },
  {
   "cell_type": "code",
   "execution_count": 6,
   "metadata": {},
   "outputs": [],
   "source": [
    "# Mean normalize X\n",
    "X_norm = (X - ave_cols)/std_cols"
   ]
  },
  {
   "cell_type": "markdown",
   "metadata": {},
   "source": [
    "If you have performed the mean normalization correctly, then the average of all the elements in $X_{\\tiny{\\mbox{norm}}}$ should be close to zero, and they should be evenly distributed in some small interval around zero. You can verify this by filing the code below:"
   ]
  },
  {
   "cell_type": "code",
   "execution_count": 7,
   "metadata": {},
   "outputs": [
    {
     "name": "stdout",
     "output_type": "stream",
     "text": [
      "3.73034936274e-17\n",
      "[-1.66782799 -1.78309871 -1.71557892 -1.7488884  -1.67124145 -1.71520787\n",
      " -1.6761794  -1.70574465 -1.80879986 -1.77899607 -1.72596956 -1.78880736\n",
      " -1.75722737 -1.66867922 -1.69028601 -1.71948999 -1.72134241 -1.71692031\n",
      " -1.74261309 -1.77871012]\n",
      "[ 1.74242811  1.78515872  1.70373734  1.72236535  1.78037191  1.73328296\n",
      "  1.73190014  1.71847689  1.7334115   1.75628082  1.64771707  1.68690058\n",
      "  1.77410621  1.76683906  1.82522241  1.76720226  1.70105211  1.73750417\n",
      "  1.66099858  1.7589642 ]\n"
     ]
    }
   ],
   "source": [
    "# Print the average of all the values of X_norm\n",
    "print(X_norm.mean())\n",
    "\n",
    "# Print the average of the minimum value in each column of X_norm\n",
    "print(X_norm.min(axis=0))\n",
    "\n",
    "# Print the average of the maximum value in each column of X_norm\n",
    "print(X_norm.max(axis=0))"
   ]
  },
  {
   "cell_type": "markdown",
   "metadata": {},
   "source": [
    "You should note that since $X$ was created using random integers, the above values will vary. \n",
    "\n",
    "# Data Separation\n",
    "\n",
    "After the data has been mean normalized, it is customary in machine learnig to split our dataset into three sets:\n",
    "\n",
    "1. A Training Set\n",
    "2. A Cross Validation Set\n",
    "3. A Test Set\n",
    "\n",
    "The dataset is usually divided such that the Training Set contains 60% of the data, the Cross Validation Set contains 20% of the data, and the Test Set contains 20% of the data. \n",
    "\n",
    "In this part of the lab you will separate `X_norm` into a Training Set, Cross Validation Set, and a Test Set. Each data set will contain rows of `X_norm` chosen at random, making sure that we don't pick the same row twice. This will guarantee that all the rows of `X_norm` are chosen and randomly distributed among the three new sets.\n",
    "\n",
    "You will start by creating a rank 1 ndarray that contains a random permutation of the row indices of `X_norm`. You can do this by using the `np.random.permutation()` function. The `np.random.permutation(N)` function creates a random permutation of integers from 0 to `N - 1`. Let's see an example:"
   ]
  },
  {
   "cell_type": "code",
   "execution_count": null,
   "metadata": {},
   "outputs": [],
   "source": [
    "# We create a random permutation of integers 0 to 4\n",
    "np.random.permutation(5)"
   ]
  },
  {
   "cell_type": "markdown",
   "metadata": {},
   "source": [
    "# To Do\n",
    "\n",
    "In the space below create a rank 1 ndarray that contains a random permutation of the row indices of `X_norm`. You can do this in one line of code by extracting the number of rows of `X_norm` using the `shape` attribute and then passing it to the  `np.random.permutation()` function. Remember the `shape` attribute returns a tuple with two numbers in the form `(rows,columns)`."
   ]
  },
  {
   "cell_type": "code",
   "execution_count": 12,
   "metadata": {},
   "outputs": [
    {
     "name": "stdout",
     "output_type": "stream",
     "text": [
      "1000\n",
      "[995 151 456 714 532 560 887   7 317 316  52 489 503 769  33 620 653 476\n",
      " 894 153 756 867 555 852 465 125 573 922 235 759 185 704 594 908 818 473\n",
      " 323 805  81 134 668 624 512 625 992 981  20  91  29 729  46 289 654  10\n",
      " 400  45  23 260  42 878 180 495 823 914 296 382 461 553 256 671 734 928\n",
      " 871 993 114 507 635 609 343 811  69 486 541 195 930 450 290 355 324 828\n",
      " 872 277 279 459 799 738 879 311 996 481 907 786 631 875 244 303 757 646\n",
      " 372 301 448 699 193 254 237 111 313 956 702  88 178 851 816 412 547 886\n",
      " 492 952   3 202 523 630 655 224 516 295 267 341 711 789 264 745 840 446\n",
      " 208 475  74 718 539 613 528  59 732 117 150 585 953 910 500 724 370  94\n",
      " 404 362 899 578 672 342 692 933 118 793 129 781 388 991 994   6 726 765\n",
      " 580 915 374 754 312 146 403 589 436 435 255 896 885 356 839 783  86 809\n",
      " 701 527 157 466 969 259 881 420 122 238 903 518 474 472 391 149 723 733\n",
      "  34  14 815 480 838 262 170 750 191 755 796 920  77 498  60 519 559 120\n",
      " 568 477 219 983 243 873 298 927 408 506 421 806 916 509 807 434 351 943\n",
      " 931 676 657 583 665 174 104 121 582 721 366  53 803   0 451  66 411 192\n",
      " 764 698 524 457 960 505 294  98 854 848 747 359 453 588 449 398 961  89\n",
      " 962 105 148 166 722 325 760 375 307 360 829 413 957 566 784 865 169 454\n",
      " 320 603 785 141 305 225 622 401  13 440 162 912 371 213 917 866 348 508\n",
      " 158 232 176 663 762 205 536 286 545 226 328 471 172 183 156 160 241 441\n",
      " 774 326 900 923 626  38 752 278  12 640 778 977 269  67 703 392 598 338\n",
      " 309  24 959 681 572 513 735 462 950  40 997 433 482 135 628 844 880  27\n",
      " 272 636 529 142  82 889 287 607 282 253 794 188 601 197 385 390 648 708\n",
      " 832 565 808   5 563 574 337 849 782 972  32 656 593 611 266 843 942 616\n",
      " 460 168 488 427 430 432 145 679 123 346 918 831 618 556 958 101 758 770\n",
      " 682 339 425 706 660 644 424 827 976 409 687 544 761 283 989 284  55 617\n",
      "  75 658 595  44 112 955 845 535  28 888 562 984 999 810 126 740 429 540\n",
      " 357 819 402 883 251 830 464  97 700 882 998  31 652 469 746 504 641 187\n",
      " 236 938 895 109 751 422  78  16 822 627 384 864 389 913 546 797  61 478\n",
      " 306 804 517 378 369 891 128 861 428 986 113 210 975 182  62 470 415 645\n",
      " 297 965 727 696 186 742 293 542 937 321 695 771 642  58  84 184 377 731\n",
      " 227 802 490 941 437 901 365  25 143 963 850  47 561 571 407 713 564 604\n",
      " 315 537 116 763  35  93 280 689 720 308 615 649 597 349 935 352 379 530\n",
      " 767  95 824 502 190 218 768 592  54 497 363 137 841 904 510 200 725 554\n",
      " 694 138 600 155 859 567  15 347 410 821 163 211 591 177 795 491 199 581\n",
      " 741 974 842 165 621 856 890 154 557 310 531 380  21 737 893 614 358 152\n",
      "  41 108 216 924 335 538 130 496 728 550 678 522 791 599 575 179 705 499\n",
      " 979 140 897   1 438 966 299 526 685 368 314 898   9  17   4 709 501 463\n",
      "  51 144 164 857 946  87 736 533  73  68 353 874 814 551 322 798 892 204\n",
      " 980 139 697 103 677 949 273 919 666 968 274  36 548  56 833 944 673 386\n",
      " 223 525 493  22 487 387 985 835 577 194 215 288 334 691 790 131 292 395\n",
      " 234 207 712 812 772 383 201 268 587 212 777  11 291 982 333 281 534 902\n",
      " 249 230 787 558 964 136 405 669 884 739  70 221 801 569 417 909   2 127\n",
      " 275 206 300 877 397 780 605  26 970 820 220 971 862  43 100 479 945 447\n",
      " 876 973 367  49 318 240 693 690 853  39 776 686 766 858 246 906 181 228\n",
      " 132 988 667 748 285 514 247 115 124 629 327 521 940 707  57 331 258 947\n",
      " 248 586 270 173 196 396 119 414 921 638 467 483 444 651 743 217 954  76\n",
      " 855 222 643 680 452 485 987 775 846 837  30 302  83 623 576 133 484 511\n",
      " 608 252 905 710 229  85  19 813 439 719 602 639 860 304 242 675 825 662\n",
      " 543  96 159 934 406 633 354 584 175 167 863 670 637 817  79  99 596 376\n",
      " 990  72 749 418 361 245 929  50 688 340 233  71  63 330 231  48 381 209\n",
      " 612 520 683 834 431  18 416 684 214 393 847 926  90 102 826 203 753 189\n",
      " 263 344 171 978 257 932 250 373 332 271 419 494 426 619 106 276 610 674\n",
      " 715 936 110 744 364 319 868 925 869 261 394 647 836 911  64 161 445  80\n",
      " 552 779   8  65  37 579 515 399 788 939 948 716 265 455 239 659 350 329\n",
      " 606 423 634 664 870 792 773 336 198 650 800 717 468 458 345  92 632 661\n",
      " 147 549 590 443 967 730 951 442 570 107]\n"
     ]
    }
   ],
   "source": [
    "# Create a rank 1 ndarray that contains a random permutation of the row indices of `X_norm`\n",
    "row_indices = np.random.permutation(X_norm.shape[0])\n",
    "\n",
    "print(row_indices)\n"
   ]
  },
  {
   "cell_type": "markdown",
   "metadata": {},
   "source": [
    "Now you can create the three datasets using the `row_indices` ndarray to select the rows that will go into each dataset. Rememeber that the Training Set contains 60% of the data, the Cross Validation Set contains 20% of the data, and the Test Set contains 20% of the data. Each set requires just one line of code to create. Fill in the code below"
   ]
  },
  {
   "cell_type": "code",
   "execution_count": 23,
   "metadata": {},
   "outputs": [],
   "source": [
    "# Make any necessary calculations.\n",
    "# You can save your calculations into variables to use later.\n",
    "\n",
    "\n",
    "# Create a Training Set\n",
    "X_train = X_norm[row_indices[0:600]]\n",
    "\n",
    "# Create a Cross Validation Set\n",
    "X_crossVal = X_norm[row_indices[600:800]]\n",
    "\n",
    "# Create a Test Set\n",
    "X_test = X_norm[row_indices[800:1000]]"
   ]
  },
  {
   "cell_type": "markdown",
   "metadata": {},
   "source": [
    "If you performed the above calculations correctly, then `X_tain` should have 600 rows and 20 columns, `X_crossVal` should have 200 rows and 20 columns, and `X_test` should have 200 rows and 20 columns. You can verify this by filling the code below:"
   ]
  },
  {
   "cell_type": "code",
   "execution_count": 24,
   "metadata": {},
   "outputs": [
    {
     "name": "stdout",
     "output_type": "stream",
     "text": [
      "(600, 20)\n",
      "(200, 20)\n",
      "(200, 20)\n"
     ]
    }
   ],
   "source": [
    "# Print the shape of X_train\n",
    "print(X_train.shape)\n",
    "\n",
    "# Print the shape of X_crossVal\n",
    "print(X_crossVal.shape)\n",
    "\n",
    "# Print the shape of X_test\n",
    "print(X_test.shape)"
   ]
  },
  {
   "cell_type": "code",
   "execution_count": null,
   "metadata": {},
   "outputs": [],
   "source": []
  }
 ],
 "metadata": {
  "kernelspec": {
   "display_name": "Python 3",
   "language": "python",
   "name": "python3"
  },
  "language_info": {
   "codemirror_mode": {
    "name": "ipython",
    "version": 3
   },
   "file_extension": ".py",
   "mimetype": "text/x-python",
   "name": "python",
   "nbconvert_exporter": "python",
   "pygments_lexer": "ipython3",
   "version": "3.6.8"
  }
 },
 "nbformat": 4,
 "nbformat_minor": 2
}
